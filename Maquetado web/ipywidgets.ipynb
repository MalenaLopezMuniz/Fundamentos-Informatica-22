{
 "cells": [
  {
   "cell_type": "code",
   "execution_count": 2,
   "metadata": {},
   "outputs": [],
   "source": [
    "import ipywidgets as widgets\n",
    "from ipywidgets import HTML, VBox, Layout\n",
    "from IPython.display import display"
   ]
  },
  {
   "cell_type": "code",
   "execution_count": null,
   "metadata": {},
   "outputs": [],
   "source": [
    "from ipywidgets.widgets.widget_layout import Layout\n",
    "h1_main_section = widgets.HTML(\"\"\"\n",
    "    <h1 style='font-size:25px; color:black'>\n",
    "        <b>Welcome to my first API!</b>\n",
    "    </h1>\"\"\")\n",
    "\n",
    "main_text = widgets.HTML(\"\"\"\n",
    "    <p style='font-size:25px; color:red'>\n",
    "    This is an API built in Python \n",
    "    </p>\"\"\")\n",
    "\n",
    "layouts_section = Layout(display='flex',\n",
    "                    flex_flow='flex-wrap',\n",
    "                    flex_direction='column',\n",
    "                    width='61%',\n",
    "                    margin='0px 10px 5px 20px',\n",
    "                    padding='2px 4% 0 1%',)\n",
    "main_section_vbox = widgets.VBox([h1_main_section, main_text], Layout=layouts_section)\n",
    "display(main_section_vbox)"
   ]
  }
 ],
 "metadata": {
  "interpreter": {
   "hash": "ca1dabc63ded4710f5567df56e48c1ae17e85bb0b24fff42a7984c88f88e2809"
  },
  "kernelspec": {
   "display_name": "Python 3.9.7 ('base')",
   "language": "python",
   "name": "python3"
  },
  "language_info": {
   "codemirror_mode": {
    "name": "ipython",
    "version": 3
   },
   "file_extension": ".py",
   "mimetype": "text/x-python",
   "name": "python",
   "nbconvert_exporter": "python",
   "pygments_lexer": "ipython3",
   "version": "3.9.7"
  },
  "orig_nbformat": 4
 },
 "nbformat": 4,
 "nbformat_minor": 2
}
